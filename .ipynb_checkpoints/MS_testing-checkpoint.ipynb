{
 "cells": [
  {
   "cell_type": "code",
   "execution_count": 1,
   "id": "indie-sellers",
   "metadata": {},
   "outputs": [],
   "source": [
    "import json \n",
    "import time\n",
    "from faker import Faker\n",
    "import random\n",
    "from random import randint\n",
    "from threading import Timer"
   ]
  },
  {
   "cell_type": "code",
   "execution_count": 2,
   "id": "dirty-wisdom",
   "metadata": {},
   "outputs": [],
   "source": [
    "fake = Faker('en_US')\n",
    "user_data=[]\n",
    "counter=0"
   ]
  },
  {
   "cell_type": "code",
   "execution_count": 3,
   "id": "material-oakland",
   "metadata": {},
   "outputs": [],
   "source": [
    "def write_json(numberOfData, filename):\n",
    "    \n",
    "    with open(filename,'r+') as file:\n",
    "      \n",
    "        # First we load existing data into a dict.\n",
    "        file_data = json.load(file)\n",
    "        \n",
    "        # print(\"file1= \",file_data,len(file_data))\n",
    "        index=file_data[-1]['id']\n",
    "        # Join new_data with file_data inside emp_details\n",
    "        for i in range(1, numberOfData+1):\n",
    "            file_data.append( \n",
    "            {'id':index+i\n",
    "            ,'name': fake.name()\n",
    "            ,'age': random.randrange(18,100)\n",
    "            ,'address':fake.address()})\n",
    "        \n",
    "        # Sets file's current position at offset.\n",
    "        file.seek(0)\n",
    "        \n",
    "        # convert back to json.\n",
    "        json.dump(file_data, file, indent = 4)\n",
    "        #Timer(5.0,write_json(numberOfData, filename)).start()\n",
    "        file_data = json.load(file)\n",
    "        print(f\"\\nAdded {numberOfData} user to the JSON file\")\n",
    "        print(f\"\\n Total number of users is {file_data[-1]['id']}\")\n",
    "      "
   ]
  },
  {
   "cell_type": "code",
   "execution_count": 4,
   "id": "identified-alloy",
   "metadata": {},
   "outputs": [],
   "source": [
    "write_json(3,'users1.json')"
   ]
  },
  {
   "cell_type": "code",
   "execution_count": 3,
   "id": "naval-repair",
   "metadata": {},
   "outputs": [
    {
     "name": "stdout",
     "output_type": "stream",
     "text": [
      "\n",
      "Enter the number of users you want to generate : 55\n",
      "not done\n"
     ]
    },
    {
     "data": {
      "text/plain": [
       "str"
      ]
     },
     "execution_count": 3,
     "metadata": {},
     "output_type": "execute_result"
    }
   ],
   "source": [
    "x= input(\"\\nEnter the number of users you want to generate : \")\n",
    "if type(x) == int:\n",
    "    print(\"done\")\n",
    "else:\n",
    "    print(\"not done\")\n",
    "    \n",
    "type(x)"
   ]
  },
  {
   "cell_type": "code",
   "execution_count": null,
   "id": "drawn-advertising",
   "metadata": {},
   "outputs": [],
   "source": [
    "while True:\n",
    "    #time.sleep(1 - time.monotonic() % 1) \n",
    "    time.sleep(10) \n",
    "    write_json(50,'users1.json')"
   ]
  },
  {
   "cell_type": "code",
   "execution_count": 7,
   "id": "coupled-waste",
   "metadata": {},
   "outputs": [],
   "source": [
    "\n",
    "def check_user_input(input):\n",
    "    try:\n",
    "        # Convert it into integer\n",
    "        val = int(input)\n",
    "        print(\"Input is an integer number. Number = \", val)\n",
    "    except ValueError:\n",
    "        try:\n",
    "            # Convert it into float\n",
    "            val = float(input)\n",
    "            print(\"Input is a float  number. Number = \", val)\n",
    "        except ValueError:\n",
    "            print(\"No.. input is not a number. It's a string\")\n"
   ]
  },
  {
   "cell_type": "code",
   "execution_count": 2,
   "id": "unusual-technology",
   "metadata": {},
   "outputs": [
    {
     "name": "stdout",
     "output_type": "stream",
     "text": [
      "----------------------------------------\n",
      "\n",
      " Generate JSON data for users \n",
      "\n",
      " Mohamed Salem Ali \n",
      "\n",
      "----------------------------------------\n",
      "\n",
      "Enter the number of users you want to generate : salem\n",
      "\n",
      "No.. input is not a number.\n",
      "\n",
      "Enter the number of users you want to generate : 100\n",
      "\n",
      "generating 100 users\n",
      "\n",
      "Would you like to restart? Enter yes or no.\n",
      "no\n"
     ]
    }
   ],
   "source": [
    "def main():\n",
    "    print('-'*40)\n",
    "    print('\\n Generate JSON data for users ')\n",
    "    print('\\n Mohamed Salem Ali \\n')\n",
    "    print('-'*40)\n",
    " \n",
    "    while True:\n",
    "        try:\n",
    "            numberOfData = int(input(\"\\nEnter the number of users you want to generate : \"))\n",
    "            print(f\"\\ngenerating {numberOfData} users\")\n",
    "            write_json(numberOfData,'users1.json')\n",
    "        except ValueError:\n",
    "            print(\"\\nNo.. input is not a number.\")\n",
    "            continue\n",
    "\n",
    "        restart = input('\\nWould you like to restart? Enter yes or no.\\n')\n",
    "        if restart.lower() != 'yes':\n",
    "            break\n",
    "\n",
    "\n",
    "if __name__ == \"__main__\":\n",
    "\tmain()\n"
   ]
  },
  {
   "cell_type": "raw",
   "id": "figured-timothy",
   "metadata": {},
   "source": [
    "From treading import timer\n",
    "\n",
    "Text = “”\n",
    "Def hello():\n",
    "Text +=  “.”\n",
    "Print(f”{text}”)\n",
    "Timer(5, Hello).start()\n",
    "\n",
    "Hello()"
   ]
  },
  {
   "cell_type": "raw",
   "id": "noticed-smith",
   "metadata": {},
   "source": [
    "def createRandomData(dataNumber):\n",
    "    for i in range(dataNumber):\n",
    "        user_data.append(\n",
    "        {'id':i+1\n",
    "        ,'name': fake.name()\n",
    "        ,'age': random.randrange(18,100)\n",
    "        ,'address':fake.address()})"
   ]
  },
  {
   "cell_type": "raw",
   "id": "interim-count",
   "metadata": {},
   "source": [
    "def write_json(new_data, filename='users1.json'):\n",
    "    with open(filename,'r+') as file:\n",
    "        \n",
    "        # First we load existing data into a dict.\n",
    "        file_data = json.load(file)\n",
    "        \n",
    "        # print(\"file1= \",file_data,len(file_data))\n",
    "        \n",
    "        # Join new_data with file_data inside emp_details\n",
    "        for i in range(len(new_data)):\n",
    "            file_data.append(new_data[i])\n",
    "        \n",
    "        # Sets file's current position at offset.\n",
    "        file.seek(0)\n",
    "        \n",
    "        # convert back to json.\n",
    "        json.dump(file_data, file, indent = 4)"
   ]
  },
  {
   "cell_type": "raw",
   "id": "seven-tucson",
   "metadata": {},
   "source": [
    "  #Timer(5.0,write_json(numberOfData, filename)).start()"
   ]
  },
  {
   "cell_type": "code",
   "execution_count": null,
   "id": "operational-potential",
   "metadata": {},
   "outputs": [],
   "source": []
  },
  {
   "cell_type": "code",
   "execution_count": null,
   "id": "dying-probability",
   "metadata": {},
   "outputs": [],
   "source": []
  },
  {
   "cell_type": "code",
   "execution_count": null,
   "id": "classified-numbers",
   "metadata": {},
   "outputs": [],
   "source": []
  }
 ],
 "metadata": {
  "kernelspec": {
   "display_name": "Python 3",
   "language": "python",
   "name": "python3"
  },
  "language_info": {
   "codemirror_mode": {
    "name": "ipython",
    "version": 3
   },
   "file_extension": ".py",
   "mimetype": "text/x-python",
   "name": "python",
   "nbconvert_exporter": "python",
   "pygments_lexer": "ipython3",
   "version": "3.7.3"
  }
 },
 "nbformat": 4,
 "nbformat_minor": 5
}
