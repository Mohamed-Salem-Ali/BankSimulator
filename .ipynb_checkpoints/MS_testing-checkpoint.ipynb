{
 "cells": [
  {
   "cell_type": "code",
   "execution_count": 118,
   "id": "disabled-female",
   "metadata": {},
   "outputs": [],
   "source": [
    "import sqlite3 as sql\n",
    "import json \n",
    "import time\n",
    "from faker import Faker\n",
    "import random\n",
    "from random import randint\n",
    "from threading import Timer"
   ]
  },
  {
   "cell_type": "code",
   "execution_count": 104,
   "id": "structural-tuner",
   "metadata": {},
   "outputs": [],
   "source": [
    "db.execute(\"CREATE TABLE IF NOT EXISTS USERS (ID NUMBER NOT NULL UNIQUE, NAME TEXT NOT NULL, AGE NUMBER NOT NULL, ADDRESS TEXT NOT NULL, PRIMARY KEY(ID))\")"
   ]
  },
  {
   "cell_type": "code",
   "execution_count": 105,
   "id": "invisible-niger",
   "metadata": {},
   "outputs": [
    {
     "data": {
      "text/plain": [
       "<sqlite3.Cursor at 0x12ad598fab0>"
      ]
     },
     "execution_count": 105,
     "metadata": {},
     "output_type": "execute_result"
    }
   ],
   "source": []
  },
  {
   "cell_type": "code",
   "execution_count": 106,
   "id": "saving-oakland",
   "metadata": {},
   "outputs": [],
   "source": [
    "def write_json(numberOfData, filename):\n",
    "    \n",
    "    with open(filename,'r+') as file:\n",
    "      \n",
    "        # First we load existing data into a dict.\n",
    "        file_data = json.load(file)\n",
    "        \n",
    "        # print(\"file1= \",file_data,len(file_data))\n",
    "        index=file_data[-1]['id']\n",
    "        # Join new_data with file_data inside emp_details\n",
    "        for i in range(1, numberOfData+1):\n",
    "            file_data.append( \n",
    "            {'id':index+i\n",
    "            ,'name': fake.name()\n",
    "            ,'age': random.randrange(18,100)\n",
    "            ,'address':fake.address()})\n",
    "        \n",
    "        # Sets file's current position at offset.\n",
    "        file.seek(0)\n",
    "        \n",
    "        # convert back to json.\n",
    "        json.dump(file_data, file, indent = 4)\n",
    "        #Timer(5.0,write_json(numberOfData, filename)).start()\n",
    "        print(f\"\\n Added {numberOfData} user to the JSON file\")\n",
    "        print(f\"\\n Total number of users is {file_data[-1]['id']}\")"
   ]
  },
  {
   "cell_type": "code",
   "execution_count": 107,
   "id": "ecological-toddler",
   "metadata": {},
   "outputs": [
    {
     "data": {
      "text/plain": [
       "'Dr. Richard Johnson'"
      ]
     },
     "execution_count": 107,
     "metadata": {},
     "output_type": "execute_result"
    }
   ],
   "source": [
    "user_1={\n",
    "        \"id\": 1,\n",
    "        \"name\": \"Dr. Richard Johnson\",\n",
    "        \"age\": 72,\n",
    "        \"address\": \"6129 Renee Point\\nNew Johnmouth, RI 70700\"\n",
    "    }\n",
    "user_1[\"name\"]"
   ]
  },
  {
   "cell_type": "code",
   "execution_count": 119,
   "id": "handy-survivor",
   "metadata": {},
   "outputs": [],
   "source": [
    "with open('users1.json','r+') as file:\n",
    "      \n",
    "        # First we load existing data into a dict.\n",
    "        file_data = json.load(file)"
   ]
  },
  {
   "cell_type": "code",
   "execution_count": 121,
   "id": "norwegian-humanitarian",
   "metadata": {},
   "outputs": [
    {
     "data": {
      "text/plain": [
       "2"
      ]
     },
     "execution_count": 121,
     "metadata": {},
     "output_type": "execute_result"
    }
   ],
   "source": [
    "file_data[2]['id']"
   ]
  },
  {
   "cell_type": "code",
   "execution_count": 130,
   "id": "standard-handling",
   "metadata": {},
   "outputs": [],
   "source": [
    "def addToDatabase(fileData):\n",
    "    for i in range(0,len(fileData)):\n",
    "        db.execute(f\"INSERT INTO USERS (ID,NAME,AGE,ADDRESS) VALUES ( {file_data[2]['id']} ,'{file_data[2]['name']}', {file_data[2]['age']} ,'{file_data[2]['address']}') \")\n",
    "       "
   ]
  },
  {
   "cell_type": "code",
   "execution_count": 131,
   "id": "aerial-campbell",
   "metadata": {},
   "outputs": [
    {
     "name": "stdout",
     "output_type": "stream",
     "text": [
      "6129 Renee Point\n",
      "New Johnmouth, RI 70700\n",
      "54451 Tammy Center\n",
      "Lake Katherineville, PA 18702\n",
      "53919 Flowers Island Suite 172\n",
      "Matthewton, NE 22498\n",
      "03368 Spears Shoals Suite 008\n",
      "Port Antonio, DC 09653\n",
      "710 Vincent Fork\n",
      "West Kelly, SD 04278\n",
      "USS Cook\n",
      "FPO AE 91429\n",
      "307 Washington Lane\n",
      "Andreafurt, TN 13920\n",
      "22642 Krueger Forge Apt. 037\n",
      "Lake Jackiechester, VT 67585\n",
      "827 Andrew Cliff\n",
      "Andreamouth, MI 09611\n",
      "131 Bradley Locks\n",
      "East Lisamouth, AR 15846\n"
     ]
    }
   ],
   "source": [
    "addToDatabase(file_data)"
   ]
  },
  {
   "cell_type": "code",
   "execution_count": 123,
   "id": "blond-regular",
   "metadata": {},
   "outputs": [],
   "source": [
    "db = sql.connect(\"test2.db\")\n",
    "db.execute(f\"INSERT INTO USERS (ID,NAME,AGE,ADDRESS) VALUES ( {file_data[2]['id']} ,'{file_data[2]['name']}', {file_data[2]['age']} ,'{file_data[2]['address']}') \")\n",
    "db.commit()\n",
    "db.close()"
   ]
  },
  {
   "cell_type": "code",
   "execution_count": 109,
   "id": "proprietary-litigation",
   "metadata": {},
   "outputs": [
    {
     "name": "stdout",
     "output_type": "stream",
     "text": [
      "salem \n"
     ]
    }
   ],
   "source": [
    "x=3\n",
    "print(f\"salem \")"
   ]
  },
  {
   "cell_type": "code",
   "execution_count": 110,
   "id": "protected-helen",
   "metadata": {},
   "outputs": [],
   "source": []
  },
  {
   "cell_type": "code",
   "execution_count": 111,
   "id": "interim-gibson",
   "metadata": {},
   "outputs": [],
   "source": []
  },
  {
   "cell_type": "code",
   "execution_count": null,
   "id": "together-provider",
   "metadata": {},
   "outputs": [],
   "source": []
  },
  {
   "cell_type": "code",
   "execution_count": null,
   "id": "living-airfare",
   "metadata": {},
   "outputs": [],
   "source": []
  },
  {
   "cell_type": "code",
   "execution_count": null,
   "id": "fossil-postcard",
   "metadata": {},
   "outputs": [],
   "source": []
  },
  {
   "cell_type": "code",
   "execution_count": null,
   "id": "fallen-legislation",
   "metadata": {},
   "outputs": [],
   "source": []
  },
  {
   "cell_type": "code",
   "execution_count": null,
   "id": "noted-assignment",
   "metadata": {},
   "outputs": [],
   "source": []
  },
  {
   "cell_type": "code",
   "execution_count": 10,
   "id": "indie-sellers",
   "metadata": {},
   "outputs": [],
   "source": [
    "import json \n",
    "import time\n",
    "from faker import Faker\n",
    "import random\n",
    "from random import randint\n",
    "from threading import Timer"
   ]
  },
  {
   "cell_type": "code",
   "execution_count": 11,
   "id": "dirty-wisdom",
   "metadata": {},
   "outputs": [],
   "source": [
    "fake = Faker('en_US')\n",
    "user_data=[]\n",
    "counter=0"
   ]
  },
  {
   "cell_type": "code",
   "execution_count": 16,
   "id": "material-oakland",
   "metadata": {},
   "outputs": [],
   "source": [
    "def write_json(numberOfData, filename):\n",
    "    \n",
    "    with open(filename,'r+') as file:\n",
    "      \n",
    "        # First we load existing data into a dict.\n",
    "        file_data = json.load(file)\n",
    "        \n",
    "        # print(\"file1= \",file_data,len(file_data))\n",
    "        index=file_data[-1]['id']\n",
    "        # Join new_data with file_data inside emp_details\n",
    "        for i in range(1, numberOfData+1):\n",
    "            file_data.append( \n",
    "            {'id':index+i\n",
    "            ,'name': fake.name()\n",
    "            ,'age': random.randrange(18,100)\n",
    "            ,'address':fake.address()})\n",
    "        \n",
    "        # Sets file's current position at offset.\n",
    "        file.seek(0)\n",
    "        \n",
    "        # convert back to json.\n",
    "        json.dump(file_data, file, indent = 4)\n",
    "        #Timer(5.0,write_json(numberOfData, filename)).start()\n",
    "        print(f\"\\n Added {numberOfData} user to the JSON file\")\n",
    "        print(f\"\\n Total number of users is {file_data[-1]['id']}\")\n",
    "      "
   ]
  },
  {
   "cell_type": "code",
   "execution_count": 17,
   "id": "identified-alloy",
   "metadata": {},
   "outputs": [
    {
     "name": "stdout",
     "output_type": "stream",
     "text": [
      "\n",
      "Added 3 user to the JSON file\n",
      "\n",
      " Total number of users is 4\n"
     ]
    }
   ],
   "source": [
    "write_json(3,'users1.json')"
   ]
  },
  {
   "cell_type": "code",
   "execution_count": 3,
   "id": "amazing-hunter",
   "metadata": {},
   "outputs": [
    {
     "name": "stdout",
     "output_type": "stream",
     "text": [
      "\n",
      "Enter the number of users you want to generate : 55\n",
      "not done\n"
     ]
    },
    {
     "data": {
      "text/plain": [
       "str"
      ]
     },
     "execution_count": 3,
     "metadata": {},
     "output_type": "execute_result"
    }
   ],
   "source": [
    "x= input(\"\\nEnter the number of users you want to generate : \")\n",
    "if type(x) == int:\n",
    "    print(\"done\")\n",
    "else:\n",
    "    print(\"not done\")\n",
    "    \n",
    "type(x)"
   ]
  },
  {
   "cell_type": "code",
   "execution_count": null,
   "id": "authorized-nylon",
   "metadata": {},
   "outputs": [],
   "source": [
    "while True:\n",
    "    #time.sleep(1 - time.monotonic() % 1) \n",
    "    time.sleep(10) \n",
    "    write_json(50,'users1.json')"
   ]
  },
  {
   "cell_type": "code",
   "execution_count": 7,
   "id": "coupled-waste",
   "metadata": {},
   "outputs": [],
   "source": [
    "\n",
    "def check_user_input(input):\n",
    "    try:\n",
    "        # Convert it into integer\n",
    "        val = int(input)\n",
    "        print(\"Input is an integer number. Number = \", val)\n",
    "    except ValueError:\n",
    "        try:\n",
    "            # Convert it into float\n",
    "            val = float(input)\n",
    "            print(\"Input is a float  number. Number = \", val)\n",
    "        except ValueError:\n",
    "            print(\"No.. input is not a number. It's a string\")\n"
   ]
  },
  {
   "cell_type": "code",
   "execution_count": 18,
   "id": "operating-photographer",
   "metadata": {},
   "outputs": [
    {
     "name": "stdout",
     "output_type": "stream",
     "text": [
      "----------------------------------------\n",
      "\n",
      " Generate JSON data for users \n",
      "\n",
      " Mohamed Salem Ali \n",
      "\n",
      "----------------------------------------\n",
      "\n",
      "Enter the number of users you want to generate : 5\n",
      "\n",
      "generating 5 users\n",
      "\n",
      "Added 5 user to the JSON file\n",
      "\n",
      " Total number of users is 9\n",
      "\n",
      "Would you like to restart? Enter yes or no.\n",
      "yes\n",
      "\n",
      "Enter the number of users you want to generate : 100\n",
      "\n",
      "generating 100 users\n",
      "\n",
      "Added 100 user to the JSON file\n",
      "\n",
      " Total number of users is 109\n",
      "\n",
      "Would you like to restart? Enter yes or no.\n",
      "yes\n",
      "\n",
      "Enter the number of users you want to generate : 55555\n",
      "\n",
      "generating 55555 users\n",
      "\n",
      "Added 55555 user to the JSON file\n",
      "\n",
      " Total number of users is 55664\n",
      "\n",
      "Would you like to restart? Enter yes or no.\n",
      "no\n"
     ]
    }
   ],
   "source": [
    "def main():\n",
    "    print('-'*40)\n",
    "    print('\\n Generate JSON data for users ')\n",
    "    print('\\n Mohamed Salem Ali \\n')\n",
    "    print('-'*40)\n",
    " \n",
    "    while True:\n",
    "        try:\n",
    "            numberOfData = int(input(\"\\nEnter the number of users you want to generate : \"))\n",
    "            print(f\"\\ngenerating {numberOfData} users\")\n",
    "            write_json(numberOfData,'users1.json')\n",
    "        except ValueError:\n",
    "            print(\"\\nNo.. input is not a number.\")\n",
    "            continue\n",
    "\n",
    "        restart = input('\\nWould you like to restart? Enter yes or no.\\n')\n",
    "        if restart.lower() != 'yes':\n",
    "            break\n",
    "\n",
    "\n",
    "if __name__ == \"__main__\":\n",
    "\tmain()\n"
   ]
  },
  {
   "cell_type": "raw",
   "id": "figured-timothy",
   "metadata": {},
   "source": [
    "From treading import timer\n",
    "\n",
    "Text = “”\n",
    "Def hello():\n",
    "Text +=  “.”\n",
    "Print(f”{text}”)\n",
    "Timer(5, Hello).start()\n",
    "\n",
    "Hello()"
   ]
  },
  {
   "cell_type": "raw",
   "id": "noticed-smith",
   "metadata": {},
   "source": [
    "def createRandomData(dataNumber):\n",
    "    for i in range(dataNumber):\n",
    "        user_data.append(\n",
    "        {'id':i+1\n",
    "        ,'name': fake.name()\n",
    "        ,'age': random.randrange(18,100)\n",
    "        ,'address':fake.address()})"
   ]
  },
  {
   "cell_type": "raw",
   "id": "interim-count",
   "metadata": {},
   "source": [
    "def write_json(new_data, filename='users1.json'):\n",
    "    with open(filename,'r+') as file:\n",
    "        \n",
    "        # First we load existing data into a dict.\n",
    "        file_data = json.load(file)\n",
    "        \n",
    "        # print(\"file1= \",file_data,len(file_data))\n",
    "        \n",
    "        # Join new_data with file_data inside emp_details\n",
    "        for i in range(len(new_data)):\n",
    "            file_data.append(new_data[i])\n",
    "        \n",
    "        # Sets file's current position at offset.\n",
    "        file.seek(0)\n",
    "        \n",
    "        # convert back to json.\n",
    "        json.dump(file_data, file, indent = 4)"
   ]
  },
  {
   "cell_type": "raw",
   "id": "selective-ontario",
   "metadata": {},
   "source": [
    "  #Timer(5.0,write_json(numberOfData, filename)).start()"
   ]
  },
  {
   "cell_type": "code",
   "execution_count": null,
   "id": "operational-potential",
   "metadata": {},
   "outputs": [],
   "source": []
  },
  {
   "cell_type": "code",
   "execution_count": null,
   "id": "dying-probability",
   "metadata": {},
   "outputs": [],
   "source": []
  },
  {
   "cell_type": "code",
   "execution_count": null,
   "id": "classified-numbers",
   "metadata": {},
   "outputs": [],
   "source": []
  }
 ],
 "metadata": {
  "kernelspec": {
   "display_name": "Python 3",
   "language": "python",
   "name": "python3"
  },
  "language_info": {
   "codemirror_mode": {
    "name": "ipython",
    "version": 3
   },
   "file_extension": ".py",
   "mimetype": "text/x-python",
   "name": "python",
   "nbconvert_exporter": "python",
   "pygments_lexer": "ipython3",
   "version": "3.7.3"
  }
 },
 "nbformat": 4,
 "nbformat_minor": 5
}
