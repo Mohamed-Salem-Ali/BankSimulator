{
 "cells": [
  {
   "cell_type": "code",
   "execution_count": 2,
   "id": "painful-winner",
   "metadata": {},
   "outputs": [],
   "source": [
    "import json \n",
    "import time\n",
    "from faker import Faker\n",
    "import random\n",
    "from random import randint"
   ]
  },
  {
   "cell_type": "code",
   "execution_count": 3,
   "id": "japanese-kingston",
   "metadata": {},
   "outputs": [],
   "source": [
    "fake = Faker('en_US')\n",
    "user_data=[]"
   ]
  },
  {
   "cell_type": "code",
   "execution_count": 4,
   "id": "obvious-flesh",
   "metadata": {},
   "outputs": [],
   "source": [
    "def createRandomData(dataNumber):\n",
    "    for i in range(dataNumber):\n",
    "        user_data.append(\n",
    "        {'id':i+1\n",
    "        ,'name': fake.name()\n",
    "        ,'age': random.randrange(18,100)\n",
    "        ,'address':fake.address()})"
   ]
  },
  {
   "cell_type": "code",
   "execution_count": 5,
   "id": "relevant-magic",
   "metadata": {},
   "outputs": [],
   "source": [
    "def write_json(new_data, filename='users1.json'):\n",
    "    with open(filename,'r+') as file:\n",
    "        \n",
    "        # First we load existing data into a dict.\n",
    "        file_data = json.load(file)\n",
    "        b\n",
    "        # print(\"file1= \",file_data,len(file_data))\n",
    "        \n",
    "        # Join new_data with file_data inside emp_details\n",
    "        for i in range(len(new_data)):\n",
    "            file_data.append(new_data[i])\n",
    "        \n",
    "        # Sets file's current position at offset.\n",
    "        file.seek(0)\n",
    "        \n",
    "        # convert back to json.\n",
    "        json.dump(file_data, file, indent = 4)\n",
    " "
   ]
  },
  {
   "cell_type": "code",
   "execution_count": 8,
   "id": "accessible-travel",
   "metadata": {},
   "outputs": [
    {
     "ename": "NameError",
     "evalue": "name 'file_data' is not defined",
     "output_type": "error",
     "traceback": [
      "\u001b[1;31m---------------------------------------------------------------------------\u001b[0m",
      "\u001b[1;31mNameError\u001b[0m                                 Traceback (most recent call last)",
      "\u001b[1;32m<ipython-input-8-63581c52b033>\u001b[0m in \u001b[0;36m<module>\u001b[1;34m\u001b[0m\n\u001b[1;32m----> 1\u001b[1;33m \u001b[0mfile_data\u001b[0m\u001b[1;33m\u001b[0m\u001b[1;33m\u001b[0m\u001b[0m\n\u001b[0m",
      "\u001b[1;31mNameError\u001b[0m: name 'file_data' is not defined"
     ]
    }
   ],
   "source": []
  },
  {
   "cell_type": "code",
   "execution_count": 6,
   "id": "synthetic-decrease",
   "metadata": {},
   "outputs": [],
   "source": [
    "createRandomData(1000)\n"
   ]
  },
  {
   "cell_type": "code",
   "execution_count": 7,
   "id": "metropolitan-canon",
   "metadata": {},
   "outputs": [],
   "source": [
    "write_json(user_data)"
   ]
  },
  {
   "cell_type": "code",
   "execution_count": null,
   "id": "transsexual-walter",
   "metadata": {},
   "outputs": [],
   "source": [
    "\n",
    "# jsonFile = open(\"users1.json\", \"r\")\n",
    "# data = json.load(jsonFile)\n",
    "# print(data,len(user_data))\n",
    "\n",
    "# file = \"users.json\"\n",
    "# def write_json(data,fileName=\"users.json\"):\n",
    "#     with open(fileName,'w') as f:\n",
    "#         json.dump(data,f,indent=4)\n",
    "#write_json(user_data[2])\n",
    "#print(user_data[2])\n",
    "#for i in range(len(user_data)): \n",
    "#   print(user_data[i],\"\\n\")"
   ]
  },
  {
   "cell_type": "code",
   "execution_count": null,
   "id": "exempt-harbor",
   "metadata": {},
   "outputs": [],
   "source": []
  }
 ],
 "metadata": {
  "kernelspec": {
   "display_name": "Python 3",
   "language": "python",
   "name": "python3"
  },
  "language_info": {
   "codemirror_mode": {
    "name": "ipython",
    "version": 3
   },
   "file_extension": ".py",
   "mimetype": "text/x-python",
   "name": "python",
   "nbconvert_exporter": "python",
   "pygments_lexer": "ipython3",
   "version": "3.7.3"
  }
 },
 "nbformat": 4,
 "nbformat_minor": 5
}
