{
 "cells": [
  {
   "cell_type": "code",
   "execution_count": 1,
   "id": "respiratory-olympus",
   "metadata": {},
   "outputs": [],
   "source": [
    "import json \n",
    "import time\n",
    "from faker import Faker\n",
    "import random\n",
    "from random import randint"
   ]
  },
  {
   "cell_type": "code",
   "execution_count": 38,
   "id": "conscious-dining",
   "metadata": {},
   "outputs": [],
   "source": [
    "fake = Faker('en_US')\n",
    "user_data=[]\n",
    "counter=0"
   ]
  },
  {
   "cell_type": "code",
   "execution_count": 44,
   "id": "spiritual-representation",
   "metadata": {},
   "outputs": [],
   "source": [
    "def write_json(numberOfData, filename):\n",
    "    with open(filename,'r+') as file:\n",
    "        \n",
    "        # First we load existing data into a dict.\n",
    "        file_data = json.load(file)\n",
    "        \n",
    "        # print(\"file1= \",file_data,len(file_data))\n",
    "        index=file_data[-1]['id']\n",
    "        # Join new_data with file_data inside emp_details\n",
    "        for i in range(1, numberOfData+1):\n",
    "            file_data.append( \n",
    "            {'id':index+i\n",
    "            ,'name': fake.name()\n",
    "            ,'age': random.randrange(18,100)\n",
    "            ,'address':fake.address()})\n",
    "        \n",
    "        # Sets file's current position at offset.\n",
    "        file.seek(0)\n",
    "        \n",
    "        # convert back to json.\n",
    "        json.dump(file_data, file, indent = 4)"
   ]
  },
  {
   "cell_type": "code",
   "execution_count": 47,
   "id": "hispanic-mattress",
   "metadata": {},
   "outputs": [],
   "source": [
    "write_json(100,'users1.json')"
   ]
  },
  {
   "cell_type": "code",
   "execution_count": 8,
   "id": "prostate-passenger",
   "metadata": {},
   "outputs": [
    {
     "name": "stdout",
     "output_type": "stream",
     "text": [
      "2\n"
     ]
    }
   ],
   "source": []
  },
  {
   "cell_type": "code",
   "execution_count": null,
   "id": "fabulous-stretch",
   "metadata": {},
   "outputs": [],
   "source": [
    "def createRandomData(dataNumber):\n",
    "    for i in range(dataNumber):\n",
    "        user_data.append(\n",
    "        {'id':i+1\n",
    "        ,'name': fake.name()\n",
    "        ,'age': random.randrange(18,100)\n",
    "        ,'address':fake.address()})"
   ]
  },
  {
   "cell_type": "code",
   "execution_count": null,
   "id": "higher-appliance",
   "metadata": {},
   "outputs": [],
   "source": [
    "def write_json(new_data, filename='users1.json'):\n",
    "    with open(filename,'r+') as file:\n",
    "        \n",
    "        # First we load existing data into a dict.\n",
    "        file_data = json.load(file)\n",
    "        \n",
    "        # print(\"file1= \",file_data,len(file_data))\n",
    "        \n",
    "        # Join new_data with file_data inside emp_details\n",
    "        for i in range(len(new_data)):\n",
    "            file_data.append(new_data[i])\n",
    "        \n",
    "        # Sets file's current position at offset.\n",
    "        file.seek(0)\n",
    "        \n",
    "        # convert back to json.\n",
    "        json.dump(file_data, file, indent = 4)"
   ]
  },
  {
   "cell_type": "code",
   "execution_count": null,
   "id": "professional-dragon",
   "metadata": {},
   "outputs": [],
   "source": []
  },
  {
   "cell_type": "code",
   "execution_count": null,
   "id": "posted-liver",
   "metadata": {},
   "outputs": [],
   "source": []
  },
  {
   "cell_type": "code",
   "execution_count": null,
   "id": "prepared-psychiatry",
   "metadata": {},
   "outputs": [],
   "source": []
  },
  {
   "cell_type": "code",
   "execution_count": null,
   "id": "adequate-flush",
   "metadata": {},
   "outputs": [],
   "source": []
  }
 ],
 "metadata": {
  "kernelspec": {
   "display_name": "Python 3",
   "language": "python",
   "name": "python3"
  },
  "language_info": {
   "codemirror_mode": {
    "name": "ipython",
    "version": 3
   },
   "file_extension": ".py",
   "mimetype": "text/x-python",
   "name": "python",
   "nbconvert_exporter": "python",
   "pygments_lexer": "ipython3",
   "version": "3.7.3"
  }
 },
 "nbformat": 4,
 "nbformat_minor": 5
}
