{
 "cells": [
  {
   "cell_type": "code",
   "execution_count": 1,
   "id": "imposed-hormone",
   "metadata": {},
   "outputs": [],
   "source": [
    "import json \n",
    "import time\n",
    "from faker import Faker\n",
    "import random\n",
    "from random import randint\n",
    "from threading import Timer"
   ]
  },
  {
   "cell_type": "code",
   "execution_count": 2,
   "id": "developing-adapter",
   "metadata": {},
   "outputs": [],
   "source": [
    "fake = Faker('en_US')\n",
    "user_data=[]"
   ]
  },
  {
   "cell_type": "code",
   "execution_count": 3,
   "id": "respiratory-walter",
   "metadata": {},
   "outputs": [],
   "source": [
    "def write_json(numberOfData, filename):\n",
    "    \n",
    "    with open(filename,'r+') as file:\n",
    "      \n",
    "        # First we load existing data into a dict.\n",
    "        file_data = json.load(file)\n",
    "        \n",
    "        # print(\"file1= \",file_data,len(file_data))\n",
    "        index=file_data[-1]['id']\n",
    "        # Join new_data with file_data inside emp_details\n",
    "        for i in range(1, numberOfData+1):\n",
    "            file_data.append( \n",
    "            {'id':index+i\n",
    "            ,'name': fake.name()\n",
    "            ,'age': random.randrange(18,100)\n",
    "            ,'address':fake.address()})\n",
    "        \n",
    "        # Sets file's current position at offset.\n",
    "        file.seek(0)\n",
    "        \n",
    "        # convert back to json.\n",
    "        json.dump(file_data, file, indent = 4)\n",
    "        #Timer(5.0,write_json(numberOfData, filename)).start()\n",
    "        print(f\"\\n Added {numberOfData} user to the JSON file\")\n",
    "        print(f\"\\n Total number of users is {file_data[-1]['id']}\")\n",
    " "
   ]
  },
  {
   "cell_type": "code",
   "execution_count": 1,
   "id": "thorough-hostel",
   "metadata": {},
   "outputs": [
    {
     "name": "stdout",
     "output_type": "stream",
     "text": [
      "----------------------------------------\n",
      "\n",
      " Generate JSON data for users \n",
      "\n",
      " Mohamed Salem Ali \n",
      "\n",
      "----------------------------------------\n",
      "\n",
      "Enter the number of users you want to generate : 2\n",
      "\n",
      "generating 2 user\n"
     ]
    },
    {
     "ename": "NameError",
     "evalue": "name 'write_json' is not defined",
     "output_type": "error",
     "traceback": [
      "\u001b[1;31m---------------------------------------------------------------------------\u001b[0m",
      "\u001b[1;31mNameError\u001b[0m                                 Traceback (most recent call last)",
      "\u001b[1;32m<ipython-input-1-049ebaa4e0a6>\u001b[0m in \u001b[0;36m<module>\u001b[1;34m\u001b[0m\n\u001b[0;32m     20\u001b[0m \u001b[1;33m\u001b[0m\u001b[0m\n\u001b[0;32m     21\u001b[0m \u001b[1;32mif\u001b[0m \u001b[0m__name__\u001b[0m \u001b[1;33m==\u001b[0m \u001b[1;34m\"__main__\"\u001b[0m\u001b[1;33m:\u001b[0m\u001b[1;33m\u001b[0m\u001b[1;33m\u001b[0m\u001b[0m\n\u001b[1;32m---> 22\u001b[1;33m         \u001b[0mmain\u001b[0m\u001b[1;33m(\u001b[0m\u001b[1;33m)\u001b[0m\u001b[1;33m\u001b[0m\u001b[1;33m\u001b[0m\u001b[0m\n\u001b[0m",
      "\u001b[1;32m<ipython-input-1-049ebaa4e0a6>\u001b[0m in \u001b[0;36mmain\u001b[1;34m()\u001b[0m\n\u001b[0;32m      9\u001b[0m             \u001b[0mnumberOfData\u001b[0m \u001b[1;33m=\u001b[0m \u001b[0mint\u001b[0m\u001b[1;33m(\u001b[0m\u001b[0minput\u001b[0m\u001b[1;33m(\u001b[0m\u001b[1;34m\"\\nEnter the number of users you want to generate : \"\u001b[0m\u001b[1;33m)\u001b[0m\u001b[1;33m)\u001b[0m\u001b[1;33m\u001b[0m\u001b[1;33m\u001b[0m\u001b[0m\n\u001b[0;32m     10\u001b[0m             \u001b[0mprint\u001b[0m\u001b[1;33m(\u001b[0m\u001b[1;34mf\"\\ngenerating {numberOfData} user\"\u001b[0m\u001b[1;33m)\u001b[0m\u001b[1;33m\u001b[0m\u001b[1;33m\u001b[0m\u001b[0m\n\u001b[1;32m---> 11\u001b[1;33m             \u001b[0mwrite_json\u001b[0m\u001b[1;33m(\u001b[0m\u001b[0mnumberOfData\u001b[0m\u001b[1;33m,\u001b[0m\u001b[1;34m'users1.json'\u001b[0m\u001b[1;33m)\u001b[0m\u001b[1;33m\u001b[0m\u001b[1;33m\u001b[0m\u001b[0m\n\u001b[0m\u001b[0;32m     12\u001b[0m         \u001b[1;32mexcept\u001b[0m \u001b[0mValueError\u001b[0m\u001b[1;33m:\u001b[0m\u001b[1;33m\u001b[0m\u001b[1;33m\u001b[0m\u001b[0m\n\u001b[0;32m     13\u001b[0m             \u001b[0mprint\u001b[0m\u001b[1;33m(\u001b[0m\u001b[1;34m\"\\nNo.. input is not a number.\"\u001b[0m\u001b[1;33m)\u001b[0m\u001b[1;33m\u001b[0m\u001b[1;33m\u001b[0m\u001b[0m\n",
      "\u001b[1;31mNameError\u001b[0m: name 'write_json' is not defined"
     ]
    }
   ],
   "source": [
    "def main():\n",
    "    print('-'*40)\n",
    "    print('\\n Generate JSON data for users ')\n",
    "    print('\\n Mohamed Salem Ali \\n')\n",
    "    print('-'*40)\n",
    " \n",
    "    while True:\n",
    "        try:\n",
    "            numberOfData = int(input(\"\\nEnter the number of users you want to generate : \"))\n",
    "            print(f\"\\ngenerating {numberOfData} user\")\n",
    "            write_json(numberOfData,'users1.json')\n",
    "        except ValueError:\n",
    "            print(\"\\nNo.. input is not a number.\")\n",
    "            continue\n",
    "\n",
    "        restart = input('\\nWould you like to restart? Enter yes or no.\\n')\n",
    "        if restart.lower() != 'yes':\n",
    "            break\n",
    "\n",
    "\n",
    "if __name__ == \"__main__\":\n",
    "\tmain()\n"
   ]
  },
  {
   "cell_type": "code",
   "execution_count": null,
   "id": "severe-chinese",
   "metadata": {},
   "outputs": [],
   "source": []
  }
 ],
 "metadata": {
  "kernelspec": {
   "display_name": "Python 3",
   "language": "python",
   "name": "python3"
  },
  "language_info": {
   "codemirror_mode": {
    "name": "ipython",
    "version": 3
   },
   "file_extension": ".py",
   "mimetype": "text/x-python",
   "name": "python",
   "nbconvert_exporter": "python",
   "pygments_lexer": "ipython3",
   "version": "3.7.3"
  }
 },
 "nbformat": 4,
 "nbformat_minor": 5
}
