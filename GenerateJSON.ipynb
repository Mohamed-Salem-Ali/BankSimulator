{
 "cells": [
  {
   "cell_type": "code",
   "execution_count": 2,
   "id": "imposed-hormone",
   "metadata": {},
   "outputs": [],
   "source": [
    "import json \n",
    "import time\n",
    "from faker import Faker\n",
    "import random\n",
    "from random import randint"
   ]
  },
  {
   "cell_type": "code",
   "execution_count": 3,
   "id": "developing-adapter",
   "metadata": {},
   "outputs": [],
   "source": [
    "fake = Faker('en_US')\n",
    "user_data=[]"
   ]
  },
  {
   "cell_type": "code",
   "execution_count": 4,
   "id": "billion-roberts",
   "metadata": {},
   "outputs": [],
   "source": [
    "def createRandomData(dataNumber):\n",
    "    for i in range(dataNumber):\n",
    "        user_data.append(\n",
    "        {'id':i+1\n",
    "        ,'name': fake.name()\n",
    "        ,'age': random.randrange(18,100)\n",
    "        ,'address':fake.address()})"
   ]
  },
  {
   "cell_type": "code",
   "execution_count": 13,
   "id": "respiratory-walter",
   "metadata": {},
   "outputs": [],
   "source": [
    "def write_json(new_data, filename='users1.json'):\n",
    "    with open(filename,'r+') as file:\n",
    "        \n",
    "        # First we load existing data into a dict.\n",
    "        file_data = json.load(file)\n",
    "        \n",
    "        # print(\"file1= \",file_data,len(file_data))\n",
    "        \n",
    "        # Join new_data with file_data inside emp_details\n",
    "        for i in range(len(new_data)):\n",
    "            file_data.append(new_data[i])\n",
    "        \n",
    "        # Sets file's current position at offset.\n",
    "        file.seek(0)\n",
    "        \n",
    "        # convert back to json.\n",
    "        json.dump(file_data, file, indent = 4)\n",
    " "
   ]
  },
  {
   "cell_type": "code",
   "execution_count": null,
   "id": "thorough-hostel",
   "metadata": {},
   "outputs": [],
   "source": []
  },
  {
   "cell_type": "code",
   "execution_count": 9,
   "id": "sweet-shower",
   "metadata": {},
   "outputs": [],
   "source": [
    "createRandomData(1000)\n"
   ]
  },
  {
   "cell_type": "code",
   "execution_count": 14,
   "id": "married-simpson",
   "metadata": {},
   "outputs": [],
   "source": [
    "write_json(user_data)"
   ]
  },
  {
   "cell_type": "code",
   "execution_count": null,
   "id": "precise-convenience",
   "metadata": {},
   "outputs": [],
   "source": [
    "\n",
    "# jsonFile = open(\"users1.json\", \"r\")\n",
    "# data = json.load(jsonFile)\n",
    "# print(data,len(user_data))\n",
    "\n",
    "# file = \"users.json\"\n",
    "# def write_json(data,fileName=\"users.json\"):\n",
    "#     with open(fileName,'w') as f:\n",
    "#         json.dump(data,f,indent=4)\n",
    "#write_json(user_data[2])\n",
    "#print(user_data[2])\n",
    "#for i in range(len(user_data)): \n",
    "#   print(user_data[i],\"\\n\")"
   ]
  },
  {
   "cell_type": "code",
   "execution_count": null,
   "id": "tracked-wales",
   "metadata": {},
   "outputs": [],
   "source": []
  }
 ],
 "metadata": {
  "kernelspec": {
   "display_name": "Python 3",
   "language": "python",
   "name": "python3"
  },
  "language_info": {
   "codemirror_mode": {
    "name": "ipython",
    "version": 3
   },
   "file_extension": ".py",
   "mimetype": "text/x-python",
   "name": "python",
   "nbconvert_exporter": "python",
   "pygments_lexer": "ipython3",
   "version": "3.7.3"
  }
 },
 "nbformat": 4,
 "nbformat_minor": 5
}
